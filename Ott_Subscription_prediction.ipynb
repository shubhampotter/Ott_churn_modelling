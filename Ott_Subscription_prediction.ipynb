{
 "cells": [
  {
   "cell_type": "code",
   "execution_count": 1,
   "id": "6bda2f86",
   "metadata": {},
   "outputs": [],
   "source": [
    "# import all the basic libraries\n",
    "import os\n",
    "import numpy as np\n",
    "import pandas as pd\n",
    "import matplotlib.pyplot as plt\n",
    "import seaborn as sns\n",
    "import warnings\n",
    "warnings.filterwarnings('ignore')\n",
    "%matplotlib inline"
   ]
  },
  {
   "cell_type": "code",
   "execution_count": 2,
   "id": "bafc6d0f",
   "metadata": {},
   "outputs": [],
   "source": [
    "# Load the datasets\n",
    "datasets=pd.read_csv(\"E:\\Data science materials\\Real_world_projects\\churn_modelling\\data_regression.csv\")"
   ]
  },
  {
   "cell_type": "code",
   "execution_count": 3,
   "id": "717edf03",
   "metadata": {},
   "outputs": [],
   "source": [
    "# making a copy of the data\n",
    "df=datasets.copy()"
   ]
  },
  {
   "cell_type": "code",
   "execution_count": 4,
   "id": "e3d9381a",
   "metadata": {},
   "outputs": [
    {
     "data": {
      "text/html": [
       "<div>\n",
       "<style scoped>\n",
       "    .dataframe tbody tr th:only-of-type {\n",
       "        vertical-align: middle;\n",
       "    }\n",
       "\n",
       "    .dataframe tbody tr th {\n",
       "        vertical-align: top;\n",
       "    }\n",
       "\n",
       "    .dataframe thead th {\n",
       "        text-align: right;\n",
       "    }\n",
       "</style>\n",
       "<table border=\"1\" class=\"dataframe\">\n",
       "  <thead>\n",
       "    <tr style=\"text-align: right;\">\n",
       "      <th></th>\n",
       "      <th>year</th>\n",
       "      <th>customer_id</th>\n",
       "      <th>phone_no</th>\n",
       "      <th>gender</th>\n",
       "      <th>age</th>\n",
       "      <th>no_of_days_subscribed</th>\n",
       "      <th>multi_screen</th>\n",
       "      <th>mail_subscribed</th>\n",
       "      <th>weekly_mins_watched</th>\n",
       "      <th>minimum_daily_mins</th>\n",
       "      <th>maximum_daily_mins</th>\n",
       "      <th>weekly_max_night_mins</th>\n",
       "      <th>videos_watched</th>\n",
       "      <th>maximum_days_inactive</th>\n",
       "      <th>customer_support_calls</th>\n",
       "      <th>churn</th>\n",
       "    </tr>\n",
       "  </thead>\n",
       "  <tbody>\n",
       "    <tr>\n",
       "      <th>0</th>\n",
       "      <td>2015</td>\n",
       "      <td>100198</td>\n",
       "      <td>409-8743</td>\n",
       "      <td>Female</td>\n",
       "      <td>36</td>\n",
       "      <td>62</td>\n",
       "      <td>no</td>\n",
       "      <td>no</td>\n",
       "      <td>148.35</td>\n",
       "      <td>12.2</td>\n",
       "      <td>16.81</td>\n",
       "      <td>82</td>\n",
       "      <td>1</td>\n",
       "      <td>4.0</td>\n",
       "      <td>1</td>\n",
       "      <td>0.0</td>\n",
       "    </tr>\n",
       "    <tr>\n",
       "      <th>1</th>\n",
       "      <td>2015</td>\n",
       "      <td>100643</td>\n",
       "      <td>340-5930</td>\n",
       "      <td>Female</td>\n",
       "      <td>39</td>\n",
       "      <td>149</td>\n",
       "      <td>no</td>\n",
       "      <td>no</td>\n",
       "      <td>294.45</td>\n",
       "      <td>7.7</td>\n",
       "      <td>33.37</td>\n",
       "      <td>87</td>\n",
       "      <td>3</td>\n",
       "      <td>3.0</td>\n",
       "      <td>2</td>\n",
       "      <td>0.0</td>\n",
       "    </tr>\n",
       "    <tr>\n",
       "      <th>2</th>\n",
       "      <td>2015</td>\n",
       "      <td>100756</td>\n",
       "      <td>372-3750</td>\n",
       "      <td>Female</td>\n",
       "      <td>65</td>\n",
       "      <td>126</td>\n",
       "      <td>no</td>\n",
       "      <td>no</td>\n",
       "      <td>87.30</td>\n",
       "      <td>11.9</td>\n",
       "      <td>9.89</td>\n",
       "      <td>91</td>\n",
       "      <td>1</td>\n",
       "      <td>4.0</td>\n",
       "      <td>5</td>\n",
       "      <td>1.0</td>\n",
       "    </tr>\n",
       "    <tr>\n",
       "      <th>3</th>\n",
       "      <td>2015</td>\n",
       "      <td>101595</td>\n",
       "      <td>331-4902</td>\n",
       "      <td>Female</td>\n",
       "      <td>24</td>\n",
       "      <td>131</td>\n",
       "      <td>no</td>\n",
       "      <td>yes</td>\n",
       "      <td>321.30</td>\n",
       "      <td>9.5</td>\n",
       "      <td>36.41</td>\n",
       "      <td>102</td>\n",
       "      <td>4</td>\n",
       "      <td>3.0</td>\n",
       "      <td>3</td>\n",
       "      <td>0.0</td>\n",
       "    </tr>\n",
       "    <tr>\n",
       "      <th>4</th>\n",
       "      <td>2015</td>\n",
       "      <td>101653</td>\n",
       "      <td>351-8398</td>\n",
       "      <td>Female</td>\n",
       "      <td>40</td>\n",
       "      <td>191</td>\n",
       "      <td>no</td>\n",
       "      <td>no</td>\n",
       "      <td>243.00</td>\n",
       "      <td>10.9</td>\n",
       "      <td>27.54</td>\n",
       "      <td>83</td>\n",
       "      <td>7</td>\n",
       "      <td>3.0</td>\n",
       "      <td>1</td>\n",
       "      <td>0.0</td>\n",
       "    </tr>\n",
       "  </tbody>\n",
       "</table>\n",
       "</div>"
      ],
      "text/plain": [
       "   year  customer_id  phone_no  gender  age  no_of_days_subscribed  \\\n",
       "0  2015       100198  409-8743  Female   36                     62   \n",
       "1  2015       100643  340-5930  Female   39                    149   \n",
       "2  2015       100756  372-3750  Female   65                    126   \n",
       "3  2015       101595  331-4902  Female   24                    131   \n",
       "4  2015       101653  351-8398  Female   40                    191   \n",
       "\n",
       "  multi_screen mail_subscribed  weekly_mins_watched  minimum_daily_mins  \\\n",
       "0           no              no               148.35                12.2   \n",
       "1           no              no               294.45                 7.7   \n",
       "2           no              no                87.30                11.9   \n",
       "3           no             yes               321.30                 9.5   \n",
       "4           no              no               243.00                10.9   \n",
       "\n",
       "   maximum_daily_mins  weekly_max_night_mins  videos_watched  \\\n",
       "0               16.81                     82               1   \n",
       "1               33.37                     87               3   \n",
       "2                9.89                     91               1   \n",
       "3               36.41                    102               4   \n",
       "4               27.54                     83               7   \n",
       "\n",
       "   maximum_days_inactive  customer_support_calls  churn  \n",
       "0                    4.0                       1    0.0  \n",
       "1                    3.0                       2    0.0  \n",
       "2                    4.0                       5    1.0  \n",
       "3                    3.0                       3    0.0  \n",
       "4                    3.0                       1    0.0  "
      ]
     },
     "execution_count": 4,
     "metadata": {},
     "output_type": "execute_result"
    }
   ],
   "source": [
    "df.head()"
   ]
  },
  {
   "cell_type": "code",
   "execution_count": 5,
   "id": "2eea3cd6",
   "metadata": {},
   "outputs": [],
   "source": [
    "target=df['churn']"
   ]
  },
  {
   "cell_type": "markdown",
   "id": "feffaffa",
   "metadata": {},
   "source": [
    "# Data cleaning"
   ]
  },
  {
   "cell_type": "code",
   "execution_count": 6,
   "id": "71333961",
   "metadata": {},
   "outputs": [],
   "source": [
    "#Pre-processesing\n",
    "# 1.Handling the missing value\n",
    "# 2.Handling the outlier(transformation or regularisation)\n",
    "# 3.Handling encoding part (label encoder,one-hot encoder,dummy)\n",
    "# 4.Feature scaling (standardisation, normalisation)\n",
    "# 5.Handing imbalanced datasets"
   ]
  },
  {
   "cell_type": "code",
   "execution_count": 7,
   "id": "a1d2a631",
   "metadata": {},
   "outputs": [
    {
     "data": {
      "text/plain": [
       "year                       0\n",
       "customer_id                0\n",
       "phone_no                   0\n",
       "gender                    24\n",
       "age                        0\n",
       "no_of_days_subscribed      0\n",
       "multi_screen               0\n",
       "mail_subscribed            0\n",
       "weekly_mins_watched        0\n",
       "minimum_daily_mins         0\n",
       "maximum_daily_mins         0\n",
       "weekly_max_night_mins      0\n",
       "videos_watched             0\n",
       "maximum_days_inactive     28\n",
       "customer_support_calls     0\n",
       "churn                     35\n",
       "dtype: int64"
      ]
     },
     "execution_count": 7,
     "metadata": {},
     "output_type": "execute_result"
    }
   ],
   "source": [
    "# checking the null values\n",
    "df.isnull().sum()"
   ]
  },
  {
   "cell_type": "code",
   "execution_count": 8,
   "id": "d7655244",
   "metadata": {},
   "outputs": [
    {
     "data": {
      "text/plain": [
       "<AxesSubplot:>"
      ]
     },
     "execution_count": 8,
     "metadata": {},
     "output_type": "execute_result"
    },
    {
     "data": {
      "image/png": "[encoded data removed]",
      "text/plain": [
       "<Figure size 432x288 with 2 Axes>"
      ]
     },
     "metadata": {
      "needs_background": "light"
     },
     "output_type": "display_data"
    }
   ],
   "source": [
    "# visulisation for the null values\n",
    "sns.heatmap(df.isnull(),yticklabels=False,cmap='coolwarm')"
   ]
  },
  {
   "cell_type": "code",
   "execution_count": 9,
   "id": "ff874f95",
   "metadata": {},
   "outputs": [],
   "source": [
    "#gender , maximum_days_inactive , churn have null values"
   ]
  },
  {
   "cell_type": "code",
   "execution_count": 10,
   "id": "d9e1089c",
   "metadata": {},
   "outputs": [
    {
     "data": {
      "text/plain": [
       "Male      1053\n",
       "Female     923\n",
       "Name: gender, dtype: int64"
      ]
     },
     "execution_count": 10,
     "metadata": {},
     "output_type": "execute_result"
    }
   ],
   "source": [
    "df['gender'].value_counts()"
   ]
  },
  {
   "cell_type": "code",
   "execution_count": 11,
   "id": "69d59484",
   "metadata": {},
   "outputs": [],
   "source": [
    "# we will replace the null values with Male \n",
    "df['gender']=df['gender'].fillna('Male')"
   ]
  },
  {
   "cell_type": "code",
   "execution_count": 12,
   "id": "05518499",
   "metadata": {},
   "outputs": [
    {
     "data": {
      "text/plain": [
       "3.0    945\n",
       "4.0    645\n",
       "2.0    273\n",
       "5.0     85\n",
       "1.0     12\n",
       "0.0     10\n",
       "6.0      2\n",
       "Name: maximum_days_inactive, dtype: int64"
      ]
     },
     "execution_count": 12,
     "metadata": {},
     "output_type": "execute_result"
    }
   ],
   "source": [
    "df['maximum_days_inactive'].value_counts()"
   ]
  },
  {
   "cell_type": "code",
   "execution_count": 13,
   "id": "61be2722",
   "metadata": {},
   "outputs": [],
   "source": [
    "# we will replace the null values with the 3.0\n",
    "df['maximum_days_inactive']=df['maximum_days_inactive'].fillna('3.0')"
   ]
  },
  {
   "cell_type": "code",
   "execution_count": 14,
   "id": "5fe6ba3e",
   "metadata": {},
   "outputs": [
    {
     "data": {
      "text/plain": [
       "0.0    1703\n",
       "1.0     262\n",
       "Name: churn, dtype: int64"
      ]
     },
     "execution_count": 14,
     "metadata": {},
     "output_type": "execute_result"
    }
   ],
   "source": [
    "df['churn'].value_counts()"
   ]
  },
  {
   "cell_type": "code",
   "execution_count": 15,
   "id": "37c3ab4e",
   "metadata": {},
   "outputs": [],
   "source": [
    "df['churn']=df['churn'].fillna(0.0)"
   ]
  },
  {
   "cell_type": "code",
   "execution_count": 16,
   "id": "89f14592",
   "metadata": {},
   "outputs": [
    {
     "name": "stdout",
     "output_type": "stream",
     "text": [
      "<class 'pandas.core.frame.DataFrame'>\n",
      "RangeIndex: 2000 entries, 0 to 1999\n",
      "Data columns (total 16 columns):\n",
      " #   Column                  Non-Null Count  Dtype  \n",
      "---  ------                  --------------  -----  \n",
      " 0   year                    2000 non-null   int64  \n",
      " 1   customer_id             2000 non-null   int64  \n",
      " 2   phone_no                2000 non-null   object \n",
      " 3   gender                  2000 non-null   object \n",
      " 4   age                     2000 non-null   int64  \n",
      " 5   no_of_days_subscribed   2000 non-null   int64  \n",
      " 6   multi_screen            2000 non-null   object \n",
      " 7   mail_subscribed         2000 non-null   object \n",
      " 8   weekly_mins_watched     2000 non-null   float64\n",
      " 9   minimum_daily_mins      2000 non-null   float64\n",
      " 10  maximum_daily_mins      2000 non-null   float64\n",
      " 11  weekly_max_night_mins   2000 non-null   int64  \n",
      " 12  videos_watched          2000 non-null   int64  \n",
      " 13  maximum_days_inactive   2000 non-null   object \n",
      " 14  customer_support_calls  2000 non-null   int64  \n",
      " 15  churn                   2000 non-null   float64\n",
      "dtypes: float64(4), int64(7), object(5)\n",
      "memory usage: 250.1+ KB\n"
     ]
    }
   ],
   "source": [
    "df.info()"
   ]
  },
  {
   "cell_type": "code",
   "execution_count": 17,
   "id": "843778dd",
   "metadata": {},
   "outputs": [
    {
     "data": {
      "text/html": [
       "<div>\n",
       "<style scoped>\n",
       "    .dataframe tbody tr th:only-of-type {\n",
       "        vertical-align: middle;\n",
       "    }\n",
       "\n",
       "    .dataframe tbody tr th {\n",
       "        vertical-align: top;\n",
       "    }\n",
       "\n",
       "    .dataframe thead th {\n",
       "        text-align: right;\n",
       "    }\n",
       "</style>\n",
       "<table border=\"1\" class=\"dataframe\">\n",
       "  <thead>\n",
       "    <tr style=\"text-align: right;\">\n",
       "      <th></th>\n",
       "      <th>year</th>\n",
       "      <th>customer_id</th>\n",
       "      <th>phone_no</th>\n",
       "      <th>gender</th>\n",
       "      <th>age</th>\n",
       "      <th>no_of_days_subscribed</th>\n",
       "      <th>multi_screen</th>\n",
       "      <th>mail_subscribed</th>\n",
       "      <th>weekly_mins_watched</th>\n",
       "      <th>minimum_daily_mins</th>\n",
       "      <th>maximum_daily_mins</th>\n",
       "      <th>weekly_max_night_mins</th>\n",
       "      <th>videos_watched</th>\n",
       "      <th>maximum_days_inactive</th>\n",
       "      <th>customer_support_calls</th>\n",
       "      <th>churn</th>\n",
       "    </tr>\n",
       "  </thead>\n",
       "  <tbody>\n",
       "  </tbody>\n",
       "</table>\n",
       "</div>"
      ],
      "text/plain": [
       "Empty DataFrame\n",
       "Columns: [year, customer_id, phone_no, gender, age, no_of_days_subscribed, multi_screen, mail_subscribed, weekly_mins_watched, minimum_daily_mins, maximum_daily_mins, weekly_max_night_mins, videos_watched, maximum_days_inactive, customer_support_calls, churn]\n",
       "Index: []"
      ]
     },
     "execution_count": 17,
     "metadata": {},
     "output_type": "execute_result"
    }
   ],
   "source": [
    "# checking the duplicated data\n",
    "df.loc[df.duplicated(),:]"
   ]
  },
  {
   "cell_type": "code",
   "execution_count": 18,
   "id": "359786b5",
   "metadata": {},
   "outputs": [],
   "source": [
    "# No duplicate data is present in the datasets"
   ]
  },
  {
   "cell_type": "code",
   "execution_count": 19,
   "id": "4e5076a1",
   "metadata": {},
   "outputs": [
    {
     "data": {
      "text/plain": [
       "<AxesSubplot:>"
      ]
     },
     "execution_count": 19,
     "metadata": {},
     "output_type": "execute_result"
    },
    {
     "data": {
      "image/png": "[encoded data removed]",
      "text/plain": [
       "<Figure size 1080x576 with 2 Axes>"
      ]
     },
     "metadata": {
      "needs_background": "light"
     },
     "output_type": "display_data"
    }
   ],
   "source": [
    "plt.figure(figsize=(15,8))\n",
    "sns.heatmap(df.corr(), annot=True)"
   ]
  },
  {
   "cell_type": "markdown",
   "id": "b5e877ad",
   "metadata": {},
   "source": [
    "##  Dropping the Column"
   ]
  },
  {
   "cell_type": "code",
   "execution_count": 20,
   "id": "84907d6d",
   "metadata": {},
   "outputs": [],
   "source": [
    "df=df.drop(['year','customer_id','phone_no'],axis=1)"
   ]
  },
  {
   "cell_type": "code",
   "execution_count": 21,
   "id": "006c700f",
   "metadata": {},
   "outputs": [
    {
     "data": {
      "text/html": [
       "<div>\n",
       "<style scoped>\n",
       "    .dataframe tbody tr th:only-of-type {\n",
       "        vertical-align: middle;\n",
       "    }\n",
       "\n",
       "    .dataframe tbody tr th {\n",
       "        vertical-align: top;\n",
       "    }\n",
       "\n",
       "    .dataframe thead th {\n",
       "        text-align: right;\n",
       "    }\n",
       "</style>\n",
       "<table border=\"1\" class=\"dataframe\">\n",
       "  <thead>\n",
       "    <tr style=\"text-align: right;\">\n",
       "      <th></th>\n",
       "      <th>gender</th>\n",
       "      <th>age</th>\n",
       "      <th>no_of_days_subscribed</th>\n",
       "      <th>multi_screen</th>\n",
       "      <th>mail_subscribed</th>\n",
       "      <th>weekly_mins_watched</th>\n",
       "      <th>minimum_daily_mins</th>\n",
       "      <th>maximum_daily_mins</th>\n",
       "      <th>weekly_max_night_mins</th>\n",
       "      <th>videos_watched</th>\n",
       "      <th>maximum_days_inactive</th>\n",
       "      <th>customer_support_calls</th>\n",
       "      <th>churn</th>\n",
       "    </tr>\n",
       "  </thead>\n",
       "  <tbody>\n",
       "    <tr>\n",
       "      <th>0</th>\n",
       "      <td>Female</td>\n",
       "      <td>36</td>\n",
       "      <td>62</td>\n",
       "      <td>no</td>\n",
       "      <td>no</td>\n",
       "      <td>148.35</td>\n",
       "      <td>12.2</td>\n",
       "      <td>16.81</td>\n",
       "      <td>82</td>\n",
       "      <td>1</td>\n",
       "      <td>4.0</td>\n",
       "      <td>1</td>\n",
       "      <td>0.0</td>\n",
       "    </tr>\n",
       "    <tr>\n",
       "      <th>1</th>\n",
       "      <td>Female</td>\n",
       "      <td>39</td>\n",
       "      <td>149</td>\n",
       "      <td>no</td>\n",
       "      <td>no</td>\n",
       "      <td>294.45</td>\n",
       "      <td>7.7</td>\n",
       "      <td>33.37</td>\n",
       "      <td>87</td>\n",
       "      <td>3</td>\n",
       "      <td>3.0</td>\n",
       "      <td>2</td>\n",
       "      <td>0.0</td>\n",
       "    </tr>\n",
       "    <tr>\n",
       "      <th>2</th>\n",
       "      <td>Female</td>\n",
       "      <td>65</td>\n",
       "      <td>126</td>\n",
       "      <td>no</td>\n",
       "      <td>no</td>\n",
       "      <td>87.30</td>\n",
       "      <td>11.9</td>\n",
       "      <td>9.89</td>\n",
       "      <td>91</td>\n",
       "      <td>1</td>\n",
       "      <td>4.0</td>\n",
       "      <td>5</td>\n",
       "      <td>1.0</td>\n",
       "    </tr>\n",
       "    <tr>\n",
       "      <th>3</th>\n",
       "      <td>Female</td>\n",
       "      <td>24</td>\n",
       "      <td>131</td>\n",
       "      <td>no</td>\n",
       "      <td>yes</td>\n",
       "      <td>321.30</td>\n",
       "      <td>9.5</td>\n",
       "      <td>36.41</td>\n",
       "      <td>102</td>\n",
       "      <td>4</td>\n",
       "      <td>3.0</td>\n",
       "      <td>3</td>\n",
       "      <td>0.0</td>\n",
       "    </tr>\n",
       "    <tr>\n",
       "      <th>4</th>\n",
       "      <td>Female</td>\n",
       "      <td>40</td>\n",
       "      <td>191</td>\n",
       "      <td>no</td>\n",
       "      <td>no</td>\n",
       "      <td>243.00</td>\n",
       "      <td>10.9</td>\n",
       "      <td>27.54</td>\n",
       "      <td>83</td>\n",
       "      <td>7</td>\n",
       "      <td>3.0</td>\n",
       "      <td>1</td>\n",
       "      <td>0.0</td>\n",
       "    </tr>\n",
       "  </tbody>\n",
       "</table>\n",
       "</div>"
      ],
      "text/plain": [
       "   gender  age  no_of_days_subscribed multi_screen mail_subscribed  \\\n",
       "0  Female   36                     62           no              no   \n",
       "1  Female   39                    149           no              no   \n",
       "2  Female   65                    126           no              no   \n",
       "3  Female   24                    131           no             yes   \n",
       "4  Female   40                    191           no              no   \n",
       "\n",
       "   weekly_mins_watched  minimum_daily_mins  maximum_daily_mins  \\\n",
       "0               148.35                12.2               16.81   \n",
       "1               294.45                 7.7               33.37   \n",
       "2                87.30                11.9                9.89   \n",
       "3               321.30                 9.5               36.41   \n",
       "4               243.00                10.9               27.54   \n",
       "\n",
       "   weekly_max_night_mins  videos_watched maximum_days_inactive  \\\n",
       "0                     82               1                   4.0   \n",
       "1                     87               3                   3.0   \n",
       "2                     91               1                   4.0   \n",
       "3                    102               4                   3.0   \n",
       "4                     83               7                   3.0   \n",
       "\n",
       "   customer_support_calls  churn  \n",
       "0                       1    0.0  \n",
       "1                       2    0.0  \n",
       "2                       5    1.0  \n",
       "3                       3    0.0  \n",
       "4                       1    0.0  "
      ]
     },
     "execution_count": 21,
     "metadata": {},
     "output_type": "execute_result"
    }
   ],
   "source": [
    "df.head()"
   ]
  },
  {
   "cell_type": "markdown",
   "id": "793a9740",
   "metadata": {},
   "source": [
    "# EDA "
   ]
  },
  {
   "cell_type": "code",
   "execution_count": 22,
   "id": "17f31d21",
   "metadata": {},
   "outputs": [],
   "source": [
    "numeric_data=df.select_dtypes(include='number')\n",
    "char_data=df.select_dtypes(include='object')"
   ]
  },
  {
   "cell_type": "code",
   "execution_count": 23,
   "id": "47ee9330",
   "metadata": {},
   "outputs": [
    {
     "data": {
      "text/html": [
       "<div>\n",
       "<style scoped>\n",
       "    .dataframe tbody tr th:only-of-type {\n",
       "        vertical-align: middle;\n",
       "    }\n",
       "\n",
       "    .dataframe tbody tr th {\n",
       "        vertical-align: top;\n",
       "    }\n",
       "\n",
       "    .dataframe thead th {\n",
       "        text-align: right;\n",
       "    }\n",
       "</style>\n",
       "<table border=\"1\" class=\"dataframe\">\n",
       "  <thead>\n",
       "    <tr style=\"text-align: right;\">\n",
       "      <th></th>\n",
       "      <th>gender</th>\n",
       "      <th>multi_screen</th>\n",
       "      <th>mail_subscribed</th>\n",
       "      <th>maximum_days_inactive</th>\n",
       "    </tr>\n",
       "  </thead>\n",
       "  <tbody>\n",
       "    <tr>\n",
       "      <th>0</th>\n",
       "      <td>Female</td>\n",
       "      <td>no</td>\n",
       "      <td>no</td>\n",
       "      <td>4.0</td>\n",
       "    </tr>\n",
       "    <tr>\n",
       "      <th>1</th>\n",
       "      <td>Female</td>\n",
       "      <td>no</td>\n",
       "      <td>no</td>\n",
       "      <td>3.0</td>\n",
       "    </tr>\n",
       "    <tr>\n",
       "      <th>2</th>\n",
       "      <td>Female</td>\n",
       "      <td>no</td>\n",
       "      <td>no</td>\n",
       "      <td>4.0</td>\n",
       "    </tr>\n",
       "    <tr>\n",
       "      <th>3</th>\n",
       "      <td>Female</td>\n",
       "      <td>no</td>\n",
       "      <td>yes</td>\n",
       "      <td>3.0</td>\n",
       "    </tr>\n",
       "    <tr>\n",
       "      <th>4</th>\n",
       "      <td>Female</td>\n",
       "      <td>no</td>\n",
       "      <td>no</td>\n",
       "      <td>3.0</td>\n",
       "    </tr>\n",
       "  </tbody>\n",
       "</table>\n",
       "</div>"
      ],
      "text/plain": [
       "   gender multi_screen mail_subscribed maximum_days_inactive\n",
       "0  Female           no              no                   4.0\n",
       "1  Female           no              no                   3.0\n",
       "2  Female           no              no                   4.0\n",
       "3  Female           no             yes                   3.0\n",
       "4  Female           no              no                   3.0"
      ]
     },
     "execution_count": 23,
     "metadata": {},
     "output_type": "execute_result"
    }
   ],
   "source": [
    "char_data.head()"
   ]
  },
  {
   "cell_type": "code",
   "execution_count": 24,
   "id": "bdd09155",
   "metadata": {},
   "outputs": [],
   "source": [
    "char=pd.concat([char_data,target],axis=1)"
   ]
  },
  {
   "cell_type": "code",
   "execution_count": 25,
   "id": "ee29d3d0",
   "metadata": {},
   "outputs": [
    {
     "data": {
      "text/html": [
       "<div>\n",
       "<style scoped>\n",
       "    .dataframe tbody tr th:only-of-type {\n",
       "        vertical-align: middle;\n",
       "    }\n",
       "\n",
       "    .dataframe tbody tr th {\n",
       "        vertical-align: top;\n",
       "    }\n",
       "\n",
       "    .dataframe thead th {\n",
       "        text-align: right;\n",
       "    }\n",
       "</style>\n",
       "<table border=\"1\" class=\"dataframe\">\n",
       "  <thead>\n",
       "    <tr style=\"text-align: right;\">\n",
       "      <th></th>\n",
       "      <th>gender</th>\n",
       "      <th>multi_screen</th>\n",
       "      <th>mail_subscribed</th>\n",
       "      <th>maximum_days_inactive</th>\n",
       "      <th>churn</th>\n",
       "    </tr>\n",
       "  </thead>\n",
       "  <tbody>\n",
       "    <tr>\n",
       "      <th>0</th>\n",
       "      <td>Female</td>\n",
       "      <td>no</td>\n",
       "      <td>no</td>\n",
       "      <td>4.0</td>\n",
       "      <td>0.0</td>\n",
       "    </tr>\n",
       "    <tr>\n",
       "      <th>1</th>\n",
       "      <td>Female</td>\n",
       "      <td>no</td>\n",
       "      <td>no</td>\n",
       "      <td>3.0</td>\n",
       "      <td>0.0</td>\n",
       "    </tr>\n",
       "    <tr>\n",
       "      <th>2</th>\n",
       "      <td>Female</td>\n",
       "      <td>no</td>\n",
       "      <td>no</td>\n",
       "      <td>4.0</td>\n",
       "      <td>1.0</td>\n",
       "    </tr>\n",
       "    <tr>\n",
       "      <th>3</th>\n",
       "      <td>Female</td>\n",
       "      <td>no</td>\n",
       "      <td>yes</td>\n",
       "      <td>3.0</td>\n",
       "      <td>0.0</td>\n",
       "    </tr>\n",
       "    <tr>\n",
       "      <th>4</th>\n",
       "      <td>Female</td>\n",
       "      <td>no</td>\n",
       "      <td>no</td>\n",
       "      <td>3.0</td>\n",
       "      <td>0.0</td>\n",
       "    </tr>\n",
       "  </tbody>\n",
       "</table>\n",
       "</div>"
      ],
      "text/plain": [
       "   gender multi_screen mail_subscribed maximum_days_inactive  churn\n",
       "0  Female           no              no                   4.0    0.0\n",
       "1  Female           no              no                   3.0    0.0\n",
       "2  Female           no              no                   4.0    1.0\n",
       "3  Female           no             yes                   3.0    0.0\n",
       "4  Female           no              no                   3.0    0.0"
      ]
     },
     "execution_count": 25,
     "metadata": {},
     "output_type": "execute_result"
    }
   ],
   "source": [
    "char.head()"
   ]
  },
  {
   "cell_type": "code",
   "execution_count": 26,
   "id": "6ecc46e7",
   "metadata": {},
   "outputs": [
    {
     "data": {
      "image/png": "[encoded data removed]",
      "text/plain": [
       "<Figure size 432x288 with 1 Axes>"
      ]
     },
     "metadata": {
      "needs_background": "light"
     },
     "output_type": "display_data"
    },
    {
     "data": {
      "image/png": "[encoded data removed]",
      "text/plain": [
       "<Figure size 432x288 with 1 Axes>"
      ]
     },
     "metadata": {
      "needs_background": "light"
     },
     "output_type": "display_data"
    },
    {
     "data": {
      "image/png": "[encoded data removed]",
      "text/plain": [
       "<Figure size 432x288 with 1 Axes>"
      ]
     },
     "metadata": {
      "needs_background": "light"
     },
     "output_type": "display_data"
    },
    {
     "data": {
      "image/png": "[encoded data removed]",
      "text/plain": [
       "<Figure size 432x288 with 1 Axes>"
      ]
     },
     "metadata": {
      "needs_background": "light"
     },
     "output_type": "display_data"
    },
    {
     "data": {
      "image/png": "[encoded data removed]",
      "text/plain": [
       "<Figure size 432x288 with 1 Axes>"
      ]
     },
     "metadata": {
      "needs_background": "light"
     },
     "output_type": "display_data"
    }
   ],
   "source": [
    "for col in (char.columns):\n",
    "    plt.figure()\n",
    "    sns.barplot(x=col,y='churn',data=char)\n",
    "plt.show()"
   ]
  },
  {
   "cell_type": "code",
   "execution_count": 27,
   "id": "7b93c5ed",
   "metadata": {},
   "outputs": [
    {
     "data": {
      "text/html": [
       "<div>\n",
       "<style scoped>\n",
       "    .dataframe tbody tr th:only-of-type {\n",
       "        vertical-align: middle;\n",
       "    }\n",
       "\n",
       "    .dataframe tbody tr th {\n",
       "        vertical-align: top;\n",
       "    }\n",
       "\n",
       "    .dataframe thead th {\n",
       "        text-align: right;\n",
       "    }\n",
       "</style>\n",
       "<table border=\"1\" class=\"dataframe\">\n",
       "  <thead>\n",
       "    <tr style=\"text-align: right;\">\n",
       "      <th></th>\n",
       "      <th>age</th>\n",
       "      <th>no_of_days_subscribed</th>\n",
       "      <th>weekly_mins_watched</th>\n",
       "      <th>minimum_daily_mins</th>\n",
       "      <th>maximum_daily_mins</th>\n",
       "      <th>weekly_max_night_mins</th>\n",
       "      <th>videos_watched</th>\n",
       "      <th>customer_support_calls</th>\n",
       "      <th>churn</th>\n",
       "    </tr>\n",
       "  </thead>\n",
       "  <tbody>\n",
       "    <tr>\n",
       "      <th>0</th>\n",
       "      <td>36</td>\n",
       "      <td>62</td>\n",
       "      <td>148.35</td>\n",
       "      <td>12.2</td>\n",
       "      <td>16.81</td>\n",
       "      <td>82</td>\n",
       "      <td>1</td>\n",
       "      <td>1</td>\n",
       "      <td>0.0</td>\n",
       "    </tr>\n",
       "    <tr>\n",
       "      <th>1</th>\n",
       "      <td>39</td>\n",
       "      <td>149</td>\n",
       "      <td>294.45</td>\n",
       "      <td>7.7</td>\n",
       "      <td>33.37</td>\n",
       "      <td>87</td>\n",
       "      <td>3</td>\n",
       "      <td>2</td>\n",
       "      <td>0.0</td>\n",
       "    </tr>\n",
       "    <tr>\n",
       "      <th>2</th>\n",
       "      <td>65</td>\n",
       "      <td>126</td>\n",
       "      <td>87.30</td>\n",
       "      <td>11.9</td>\n",
       "      <td>9.89</td>\n",
       "      <td>91</td>\n",
       "      <td>1</td>\n",
       "      <td>5</td>\n",
       "      <td>1.0</td>\n",
       "    </tr>\n",
       "    <tr>\n",
       "      <th>3</th>\n",
       "      <td>24</td>\n",
       "      <td>131</td>\n",
       "      <td>321.30</td>\n",
       "      <td>9.5</td>\n",
       "      <td>36.41</td>\n",
       "      <td>102</td>\n",
       "      <td>4</td>\n",
       "      <td>3</td>\n",
       "      <td>0.0</td>\n",
       "    </tr>\n",
       "    <tr>\n",
       "      <th>4</th>\n",
       "      <td>40</td>\n",
       "      <td>191</td>\n",
       "      <td>243.00</td>\n",
       "      <td>10.9</td>\n",
       "      <td>27.54</td>\n",
       "      <td>83</td>\n",
       "      <td>7</td>\n",
       "      <td>1</td>\n",
       "      <td>0.0</td>\n",
       "    </tr>\n",
       "  </tbody>\n",
       "</table>\n",
       "</div>"
      ],
      "text/plain": [
       "   age  no_of_days_subscribed  weekly_mins_watched  minimum_daily_mins  \\\n",
       "0   36                     62               148.35                12.2   \n",
       "1   39                    149               294.45                 7.7   \n",
       "2   65                    126                87.30                11.9   \n",
       "3   24                    131               321.30                 9.5   \n",
       "4   40                    191               243.00                10.9   \n",
       "\n",
       "   maximum_daily_mins  weekly_max_night_mins  videos_watched  \\\n",
       "0               16.81                     82               1   \n",
       "1               33.37                     87               3   \n",
       "2                9.89                     91               1   \n",
       "3               36.41                    102               4   \n",
       "4               27.54                     83               7   \n",
       "\n",
       "   customer_support_calls  churn  \n",
       "0                       1    0.0  \n",
       "1                       2    0.0  \n",
       "2                       5    1.0  \n",
       "3                       3    0.0  \n",
       "4                       1    0.0  "
      ]
     },
     "execution_count": 27,
     "metadata": {},
     "output_type": "execute_result"
    }
   ],
   "source": [
    "numeric_data.head()"
   ]
  },
  {
   "cell_type": "code",
   "execution_count": 35,
   "id": "2a41a272",
   "metadata": {},
   "outputs": [
    {
     "data": {
      "image/png": "[encoded data removed]",
      "text/plain": [
       "<Figure size 720x288 with 1 Axes>"
      ]
     },
     "metadata": {
      "needs_background": "light"
     },
     "output_type": "display_data"
    },
    {
     "data": {
      "image/png": "[encoded data removed]",
      "text/plain": [
       "<Figure size 432x288 with 1 Axes>"
      ]
     },
     "metadata": {
      "needs_background": "light"
     },
     "output_type": "display_data"
    },
    {
     "data": {
      "image/png": "[encoded data removed]",
      "text/plain": [
       "<Figure size 432x288 with 1 Axes>"
      ]
     },
     "metadata": {
      "needs_background": "light"
     },
     "output_type": "display_data"
    },
    {
     "data": {
      "image/png": "[encoded data removed]",
      "text/plain": [
       "<Figure size 432x288 with 1 Axes>"
      ]
     },
     "metadata": {
      "needs_background": "light"
     },
     "output_type": "display_data"
    },
    {
     "data": {
      "image/png": "[encoded data removed]",
      "text/plain": [
       "<Figure size 432x288 with 1 Axes>"
      ]
     },
     "metadata": {
      "needs_background": "light"
     },
     "output_type": "display_data"
    },
    {
     "data": {
      "image/png": "[encoded data removed]",
      "text/plain": [
       "<Figure size 432x288 with 1 Axes>"
      ]
     },
     "metadata": {
      "needs_background": "light"
     },
     "output_type": "display_data"
    }
   ],
   "source": [
    "# Let's plot some histograms for the continuous variable\n",
    "continous_var=['age','no_of_days_subscribed','weekly_mins_watched','minimum_daily_mins','maximum_daily_mins',\n",
    "              'weekly_max_night_mins']\n",
    "\n",
    "plt.figure(figsize=(10,4))\n",
    "for i in continous_var:\n",
    "    numeric_data[i].hist(bins=20)\n",
    "    plt.title(i)\n",
    "    plt.show()"
   ]
  },
  {
   "cell_type": "code",
   "execution_count": 36,
   "id": "d3667a14",
   "metadata": {},
   "outputs": [
    {
     "data": {
      "image/png": "[encoded data removed]",
      "text/plain": [
       "<Figure size 432x288 with 1 Axes>"
      ]
     },
     "metadata": {
      "needs_background": "light"
     },
     "output_type": "display_data"
    },
    {
     "data": {
      "image/png": "[encoded data removed]",
      "text/plain": [
       "<Figure size 432x288 with 1 Axes>"
      ]
     },
     "metadata": {
      "needs_background": "light"
     },
     "output_type": "display_data"
    }
   ],
   "source": [
    "numeric_discrete_var=['videos_watched','customer_support_calls']\n",
    "for i in numeric_discrete_var:\n",
    "    plt.figure()\n",
    "    sns.barplot(x=i,y='churn',data=numeric_data)\n",
    "plt.show()"
   ]
  },
  {
   "cell_type": "markdown",
   "id": "0d441a34",
   "metadata": {},
   "source": [
    "## One-hot encoding "
   ]
  },
  {
   "cell_type": "code",
   "execution_count": 37,
   "id": "3e3577f7",
   "metadata": {},
   "outputs": [],
   "source": [
    "df['multi_screen']=df['multi_screen'].astype('category')\n",
    "df['multi_screen']=df['multi_screen'].cat.codes\n",
    "df=pd.get_dummies(df,columns=['multi_screen'],drop_first=True)"
   ]
  },
  {
   "cell_type": "code",
   "execution_count": 38,
   "id": "20a03c14",
   "metadata": {},
   "outputs": [],
   "source": [
    "df['gender']=df['gender'].astype('category')\n",
    "df['gender']=df['gender'].cat.codes\n",
    "df=pd.get_dummies(df,columns=['gender'],drop_first=True)"
   ]
  },
  {
   "cell_type": "code",
   "execution_count": 39,
   "id": "b601a357",
   "metadata": {},
   "outputs": [],
   "source": [
    "df['mail_subscribed']=df['mail_subscribed'].astype('category')\n",
    "df['mail_subscribed']=df['mail_subscribed'].cat.codes\n",
    "df=pd.get_dummies(df,columns=['mail_subscribed'],drop_first=True)"
   ]
  },
  {
   "cell_type": "code",
   "execution_count": 40,
   "id": "89d807a6",
   "metadata": {},
   "outputs": [],
   "source": [
    "df['maximum_days_inactive']=df['maximum_days_inactive'].astype('category')\n",
    "df['maximum_days_inactive']=df['maximum_days_inactive'].cat.codes\n",
    "df=pd.get_dummies(df,columns=['maximum_days_inactive'],drop_first=True)"
   ]
  },
  {
   "cell_type": "code",
   "execution_count": 41,
   "id": "68728b79",
   "metadata": {},
   "outputs": [
    {
     "data": {
      "text/html": [
       "<div>\n",
       "<style scoped>\n",
       "    .dataframe tbody tr th:only-of-type {\n",
       "        vertical-align: middle;\n",
       "    }\n",
       "\n",
       "    .dataframe tbody tr th {\n",
       "        vertical-align: top;\n",
       "    }\n",
       "\n",
       "    .dataframe thead th {\n",
       "        text-align: right;\n",
       "    }\n",
       "</style>\n",
       "<table border=\"1\" class=\"dataframe\">\n",
       "  <thead>\n",
       "    <tr style=\"text-align: right;\">\n",
       "      <th></th>\n",
       "      <th>age</th>\n",
       "      <th>no_of_days_subscribed</th>\n",
       "      <th>weekly_mins_watched</th>\n",
       "      <th>minimum_daily_mins</th>\n",
       "      <th>maximum_daily_mins</th>\n",
       "      <th>weekly_max_night_mins</th>\n",
       "      <th>videos_watched</th>\n",
       "      <th>customer_support_calls</th>\n",
       "      <th>churn</th>\n",
       "      <th>multi_screen_1</th>\n",
       "      <th>gender_1</th>\n",
       "      <th>mail_subscribed_1</th>\n",
       "      <th>maximum_days_inactive_1</th>\n",
       "      <th>maximum_days_inactive_2</th>\n",
       "      <th>maximum_days_inactive_3</th>\n",
       "      <th>maximum_days_inactive_4</th>\n",
       "      <th>maximum_days_inactive_5</th>\n",
       "      <th>maximum_days_inactive_6</th>\n",
       "      <th>maximum_days_inactive_7</th>\n",
       "    </tr>\n",
       "  </thead>\n",
       "  <tbody>\n",
       "    <tr>\n",
       "      <th>0</th>\n",
       "      <td>36</td>\n",
       "      <td>62</td>\n",
       "      <td>148.35</td>\n",
       "      <td>12.2</td>\n",
       "      <td>16.81</td>\n",
       "      <td>82</td>\n",
       "      <td>1</td>\n",
       "      <td>1</td>\n",
       "      <td>0.0</td>\n",
       "      <td>0</td>\n",
       "      <td>0</td>\n",
       "      <td>0</td>\n",
       "      <td>0</td>\n",
       "      <td>0</td>\n",
       "      <td>0</td>\n",
       "      <td>1</td>\n",
       "      <td>0</td>\n",
       "      <td>0</td>\n",
       "      <td>0</td>\n",
       "    </tr>\n",
       "    <tr>\n",
       "      <th>1</th>\n",
       "      <td>39</td>\n",
       "      <td>149</td>\n",
       "      <td>294.45</td>\n",
       "      <td>7.7</td>\n",
       "      <td>33.37</td>\n",
       "      <td>87</td>\n",
       "      <td>3</td>\n",
       "      <td>2</td>\n",
       "      <td>0.0</td>\n",
       "      <td>0</td>\n",
       "      <td>0</td>\n",
       "      <td>0</td>\n",
       "      <td>0</td>\n",
       "      <td>0</td>\n",
       "      <td>1</td>\n",
       "      <td>0</td>\n",
       "      <td>0</td>\n",
       "      <td>0</td>\n",
       "      <td>0</td>\n",
       "    </tr>\n",
       "    <tr>\n",
       "      <th>2</th>\n",
       "      <td>65</td>\n",
       "      <td>126</td>\n",
       "      <td>87.30</td>\n",
       "      <td>11.9</td>\n",
       "      <td>9.89</td>\n",
       "      <td>91</td>\n",
       "      <td>1</td>\n",
       "      <td>5</td>\n",
       "      <td>1.0</td>\n",
       "      <td>0</td>\n",
       "      <td>0</td>\n",
       "      <td>0</td>\n",
       "      <td>0</td>\n",
       "      <td>0</td>\n",
       "      <td>0</td>\n",
       "      <td>1</td>\n",
       "      <td>0</td>\n",
       "      <td>0</td>\n",
       "      <td>0</td>\n",
       "    </tr>\n",
       "    <tr>\n",
       "      <th>3</th>\n",
       "      <td>24</td>\n",
       "      <td>131</td>\n",
       "      <td>321.30</td>\n",
       "      <td>9.5</td>\n",
       "      <td>36.41</td>\n",
       "      <td>102</td>\n",
       "      <td>4</td>\n",
       "      <td>3</td>\n",
       "      <td>0.0</td>\n",
       "      <td>0</td>\n",
       "      <td>0</td>\n",
       "      <td>1</td>\n",
       "      <td>0</td>\n",
       "      <td>0</td>\n",
       "      <td>1</td>\n",
       "      <td>0</td>\n",
       "      <td>0</td>\n",
       "      <td>0</td>\n",
       "      <td>0</td>\n",
       "    </tr>\n",
       "    <tr>\n",
       "      <th>4</th>\n",
       "      <td>40</td>\n",
       "      <td>191</td>\n",
       "      <td>243.00</td>\n",
       "      <td>10.9</td>\n",
       "      <td>27.54</td>\n",
       "      <td>83</td>\n",
       "      <td>7</td>\n",
       "      <td>1</td>\n",
       "      <td>0.0</td>\n",
       "      <td>0</td>\n",
       "      <td>0</td>\n",
       "      <td>0</td>\n",
       "      <td>0</td>\n",
       "      <td>0</td>\n",
       "      <td>1</td>\n",
       "      <td>0</td>\n",
       "      <td>0</td>\n",
       "      <td>0</td>\n",
       "      <td>0</td>\n",
       "    </tr>\n",
       "  </tbody>\n",
       "</table>\n",
       "</div>"
      ],
      "text/plain": [
       "   age  no_of_days_subscribed  weekly_mins_watched  minimum_daily_mins  \\\n",
       "0   36                     62               148.35                12.2   \n",
       "1   39                    149               294.45                 7.7   \n",
       "2   65                    126                87.30                11.9   \n",
       "3   24                    131               321.30                 9.5   \n",
       "4   40                    191               243.00                10.9   \n",
       "\n",
       "   maximum_daily_mins  weekly_max_night_mins  videos_watched  \\\n",
       "0               16.81                     82               1   \n",
       "1               33.37                     87               3   \n",
       "2                9.89                     91               1   \n",
       "3               36.41                    102               4   \n",
       "4               27.54                     83               7   \n",
       "\n",
       "   customer_support_calls  churn  multi_screen_1  gender_1  mail_subscribed_1  \\\n",
       "0                       1    0.0               0         0                  0   \n",
       "1                       2    0.0               0         0                  0   \n",
       "2                       5    1.0               0         0                  0   \n",
       "3                       3    0.0               0         0                  1   \n",
       "4                       1    0.0               0         0                  0   \n",
       "\n",
       "   maximum_days_inactive_1  maximum_days_inactive_2  maximum_days_inactive_3  \\\n",
       "0                        0                        0                        0   \n",
       "1                        0                        0                        1   \n",
       "2                        0                        0                        0   \n",
       "3                        0                        0                        1   \n",
       "4                        0                        0                        1   \n",
       "\n",
       "   maximum_days_inactive_4  maximum_days_inactive_5  maximum_days_inactive_6  \\\n",
       "0                        1                        0                        0   \n",
       "1                        0                        0                        0   \n",
       "2                        1                        0                        0   \n",
       "3                        0                        0                        0   \n",
       "4                        0                        0                        0   \n",
       "\n",
       "   maximum_days_inactive_7  \n",
       "0                        0  \n",
       "1                        0  \n",
       "2                        0  \n",
       "3                        0  \n",
       "4                        0  "
      ]
     },
     "execution_count": 41,
     "metadata": {},
     "output_type": "execute_result"
    }
   ],
   "source": [
    "pd.set_option('display.max_columns', None)\n",
    "df.head()"
   ]
  },
  {
   "cell_type": "code",
   "execution_count": 42,
   "id": "31dfdac0",
   "metadata": {},
   "outputs": [
    {
     "name": "stdout",
     "output_type": "stream",
     "text": [
      "<class 'pandas.core.frame.DataFrame'>\n",
      "RangeIndex: 2000 entries, 0 to 1999\n",
      "Data columns (total 19 columns):\n",
      " #   Column                   Non-Null Count  Dtype  \n",
      "---  ------                   --------------  -----  \n",
      " 0   age                      2000 non-null   int64  \n",
      " 1   no_of_days_subscribed    2000 non-null   int64  \n",
      " 2   weekly_mins_watched      2000 non-null   float64\n",
      " 3   minimum_daily_mins       2000 non-null   float64\n",
      " 4   maximum_daily_mins       2000 non-null   float64\n",
      " 5   weekly_max_night_mins    2000 non-null   int64  \n",
      " 6   videos_watched           2000 non-null   int64  \n",
      " 7   customer_support_calls   2000 non-null   int64  \n",
      " 8   churn                    2000 non-null   float64\n",
      " 9   multi_screen_1           2000 non-null   uint8  \n",
      " 10  gender_1                 2000 non-null   uint8  \n",
      " 11  mail_subscribed_1        2000 non-null   uint8  \n",
      " 12  maximum_days_inactive_1  2000 non-null   uint8  \n",
      " 13  maximum_days_inactive_2  2000 non-null   uint8  \n",
      " 14  maximum_days_inactive_3  2000 non-null   uint8  \n",
      " 15  maximum_days_inactive_4  2000 non-null   uint8  \n",
      " 16  maximum_days_inactive_5  2000 non-null   uint8  \n",
      " 17  maximum_days_inactive_6  2000 non-null   uint8  \n",
      " 18  maximum_days_inactive_7  2000 non-null   uint8  \n",
      "dtypes: float64(4), int64(5), uint8(10)\n",
      "memory usage: 160.3 KB\n"
     ]
    }
   ],
   "source": [
    "df.info()"
   ]
  },
  {
   "cell_type": "code",
   "execution_count": 43,
   "id": "4a896f40",
   "metadata": {},
   "outputs": [
    {
     "data": {
      "text/plain": [
       "0.0    1738\n",
       "1.0     262\n",
       "Name: churn, dtype: int64"
      ]
     },
     "execution_count": 43,
     "metadata": {},
     "output_type": "execute_result"
    }
   ],
   "source": [
    "# checking the imbalance data\n",
    "df['churn'].value_counts()"
   ]
  },
  {
   "cell_type": "code",
   "execution_count": 44,
   "id": "80729593",
   "metadata": {},
   "outputs": [],
   "source": [
    "# AS 2*minority  < majority , means the data is imbalance data\n",
    "# Here if we balance the data , then it will 50% 0.0 and 50% 1.0 which will affect accuracy metrics as \n",
    "# well as production performance."
   ]
  },
  {
   "cell_type": "code",
   "execution_count": 45,
   "id": "2a2978dc",
   "metadata": {},
   "outputs": [
    {
     "data": {
      "text/html": [
       "<div>\n",
       "<style scoped>\n",
       "    .dataframe tbody tr th:only-of-type {\n",
       "        vertical-align: middle;\n",
       "    }\n",
       "\n",
       "    .dataframe tbody tr th {\n",
       "        vertical-align: top;\n",
       "    }\n",
       "\n",
       "    .dataframe thead th {\n",
       "        text-align: right;\n",
       "    }\n",
       "</style>\n",
       "<table border=\"1\" class=\"dataframe\">\n",
       "  <thead>\n",
       "    <tr style=\"text-align: right;\">\n",
       "      <th></th>\n",
       "      <th>age</th>\n",
       "      <th>no_of_days_subscribed</th>\n",
       "      <th>weekly_mins_watched</th>\n",
       "      <th>minimum_daily_mins</th>\n",
       "      <th>maximum_daily_mins</th>\n",
       "      <th>weekly_max_night_mins</th>\n",
       "      <th>videos_watched</th>\n",
       "      <th>customer_support_calls</th>\n",
       "      <th>churn</th>\n",
       "      <th>multi_screen_1</th>\n",
       "      <th>gender_1</th>\n",
       "      <th>mail_subscribed_1</th>\n",
       "      <th>maximum_days_inactive_1</th>\n",
       "      <th>maximum_days_inactive_2</th>\n",
       "      <th>maximum_days_inactive_3</th>\n",
       "      <th>maximum_days_inactive_4</th>\n",
       "      <th>maximum_days_inactive_5</th>\n",
       "      <th>maximum_days_inactive_6</th>\n",
       "      <th>maximum_days_inactive_7</th>\n",
       "    </tr>\n",
       "  </thead>\n",
       "  <tbody>\n",
       "    <tr>\n",
       "      <th>count</th>\n",
       "      <td>2000.00000</td>\n",
       "      <td>2000.000000</td>\n",
       "      <td>2000.000000</td>\n",
       "      <td>2000.000000</td>\n",
       "      <td>2000.000000</td>\n",
       "      <td>2000.000000</td>\n",
       "      <td>2000.000000</td>\n",
       "      <td>2000.000000</td>\n",
       "      <td>2000.000000</td>\n",
       "      <td>2000.000000</td>\n",
       "      <td>2000.00000</td>\n",
       "      <td>2000.000000</td>\n",
       "      <td>2000.000000</td>\n",
       "      <td>2000.000000</td>\n",
       "      <td>2000.000000</td>\n",
       "      <td>2000.00000</td>\n",
       "      <td>2000.000000</td>\n",
       "      <td>2000.000000</td>\n",
       "      <td>2000.00000</td>\n",
       "    </tr>\n",
       "    <tr>\n",
       "      <th>mean</th>\n",
       "      <td>38.69050</td>\n",
       "      <td>99.750000</td>\n",
       "      <td>270.178425</td>\n",
       "      <td>10.198700</td>\n",
       "      <td>30.620780</td>\n",
       "      <td>100.415500</td>\n",
       "      <td>4.482500</td>\n",
       "      <td>1.547000</td>\n",
       "      <td>0.131000</td>\n",
       "      <td>0.099000</td>\n",
       "      <td>0.53850</td>\n",
       "      <td>0.285000</td>\n",
       "      <td>0.006000</td>\n",
       "      <td>0.136500</td>\n",
       "      <td>0.472500</td>\n",
       "      <td>0.32250</td>\n",
       "      <td>0.042500</td>\n",
       "      <td>0.001000</td>\n",
       "      <td>0.01400</td>\n",
       "    </tr>\n",
       "    <tr>\n",
       "      <th>std</th>\n",
       "      <td>10.20641</td>\n",
       "      <td>39.755386</td>\n",
       "      <td>80.551627</td>\n",
       "      <td>2.785519</td>\n",
       "      <td>9.129165</td>\n",
       "      <td>19.529454</td>\n",
       "      <td>2.487728</td>\n",
       "      <td>1.315164</td>\n",
       "      <td>0.337485</td>\n",
       "      <td>0.298737</td>\n",
       "      <td>0.49864</td>\n",
       "      <td>0.451527</td>\n",
       "      <td>0.077246</td>\n",
       "      <td>0.343405</td>\n",
       "      <td>0.499368</td>\n",
       "      <td>0.46755</td>\n",
       "      <td>0.201777</td>\n",
       "      <td>0.031615</td>\n",
       "      <td>0.11752</td>\n",
       "    </tr>\n",
       "    <tr>\n",
       "      <th>min</th>\n",
       "      <td>18.00000</td>\n",
       "      <td>1.000000</td>\n",
       "      <td>0.000000</td>\n",
       "      <td>0.000000</td>\n",
       "      <td>0.000000</td>\n",
       "      <td>42.000000</td>\n",
       "      <td>0.000000</td>\n",
       "      <td>0.000000</td>\n",
       "      <td>0.000000</td>\n",
       "      <td>0.000000</td>\n",
       "      <td>0.00000</td>\n",
       "      <td>0.000000</td>\n",
       "      <td>0.000000</td>\n",
       "      <td>0.000000</td>\n",
       "      <td>0.000000</td>\n",
       "      <td>0.00000</td>\n",
       "      <td>0.000000</td>\n",
       "      <td>0.000000</td>\n",
       "      <td>0.00000</td>\n",
       "    </tr>\n",
       "    <tr>\n",
       "      <th>25%</th>\n",
       "      <td>32.00000</td>\n",
       "      <td>73.000000</td>\n",
       "      <td>218.212500</td>\n",
       "      <td>8.400000</td>\n",
       "      <td>24.735000</td>\n",
       "      <td>87.000000</td>\n",
       "      <td>3.000000</td>\n",
       "      <td>1.000000</td>\n",
       "      <td>0.000000</td>\n",
       "      <td>0.000000</td>\n",
       "      <td>0.00000</td>\n",
       "      <td>0.000000</td>\n",
       "      <td>0.000000</td>\n",
       "      <td>0.000000</td>\n",
       "      <td>0.000000</td>\n",
       "      <td>0.00000</td>\n",
       "      <td>0.000000</td>\n",
       "      <td>0.000000</td>\n",
       "      <td>0.00000</td>\n",
       "    </tr>\n",
       "    <tr>\n",
       "      <th>50%</th>\n",
       "      <td>37.00000</td>\n",
       "      <td>99.000000</td>\n",
       "      <td>269.925000</td>\n",
       "      <td>10.200000</td>\n",
       "      <td>30.590000</td>\n",
       "      <td>101.000000</td>\n",
       "      <td>4.000000</td>\n",
       "      <td>1.000000</td>\n",
       "      <td>0.000000</td>\n",
       "      <td>0.000000</td>\n",
       "      <td>1.00000</td>\n",
       "      <td>0.000000</td>\n",
       "      <td>0.000000</td>\n",
       "      <td>0.000000</td>\n",
       "      <td>0.000000</td>\n",
       "      <td>0.00000</td>\n",
       "      <td>0.000000</td>\n",
       "      <td>0.000000</td>\n",
       "      <td>0.00000</td>\n",
       "    </tr>\n",
       "    <tr>\n",
       "      <th>75%</th>\n",
       "      <td>44.00000</td>\n",
       "      <td>127.000000</td>\n",
       "      <td>324.675000</td>\n",
       "      <td>12.000000</td>\n",
       "      <td>36.797500</td>\n",
       "      <td>114.000000</td>\n",
       "      <td>6.000000</td>\n",
       "      <td>2.000000</td>\n",
       "      <td>0.000000</td>\n",
       "      <td>0.000000</td>\n",
       "      <td>1.00000</td>\n",
       "      <td>1.000000</td>\n",
       "      <td>0.000000</td>\n",
       "      <td>0.000000</td>\n",
       "      <td>1.000000</td>\n",
       "      <td>1.00000</td>\n",
       "      <td>0.000000</td>\n",
       "      <td>0.000000</td>\n",
       "      <td>0.00000</td>\n",
       "    </tr>\n",
       "    <tr>\n",
       "      <th>max</th>\n",
       "      <td>82.00000</td>\n",
       "      <td>243.000000</td>\n",
       "      <td>526.200000</td>\n",
       "      <td>20.000000</td>\n",
       "      <td>59.640000</td>\n",
       "      <td>175.000000</td>\n",
       "      <td>19.000000</td>\n",
       "      <td>9.000000</td>\n",
       "      <td>1.000000</td>\n",
       "      <td>1.000000</td>\n",
       "      <td>1.00000</td>\n",
       "      <td>1.000000</td>\n",
       "      <td>1.000000</td>\n",
       "      <td>1.000000</td>\n",
       "      <td>1.000000</td>\n",
       "      <td>1.00000</td>\n",
       "      <td>1.000000</td>\n",
       "      <td>1.000000</td>\n",
       "      <td>1.00000</td>\n",
       "    </tr>\n",
       "  </tbody>\n",
       "</table>\n",
       "</div>"
      ],
      "text/plain": [
       "              age  no_of_days_subscribed  weekly_mins_watched  \\\n",
       "count  2000.00000            2000.000000          2000.000000   \n",
       "mean     38.69050              99.750000           270.178425   \n",
       "std      10.20641              39.755386            80.551627   \n",
       "min      18.00000               1.000000             0.000000   \n",
       "25%      32.00000              73.000000           218.212500   \n",
       "50%      37.00000              99.000000           269.925000   \n",
       "75%      44.00000             127.000000           324.675000   \n",
       "max      82.00000             243.000000           526.200000   \n",
       "\n",
       "       minimum_daily_mins  maximum_daily_mins  weekly_max_night_mins  \\\n",
       "count         2000.000000         2000.000000            2000.000000   \n",
       "mean            10.198700           30.620780             100.415500   \n",
       "std              2.785519            9.129165              19.529454   \n",
       "min              0.000000            0.000000              42.000000   \n",
       "25%              8.400000           24.735000              87.000000   \n",
       "50%             10.200000           30.590000             101.000000   \n",
       "75%             12.000000           36.797500             114.000000   \n",
       "max             20.000000           59.640000             175.000000   \n",
       "\n",
       "       videos_watched  customer_support_calls        churn  multi_screen_1  \\\n",
       "count     2000.000000             2000.000000  2000.000000     2000.000000   \n",
       "mean         4.482500                1.547000     0.131000        0.099000   \n",
       "std          2.487728                1.315164     0.337485        0.298737   \n",
       "min          0.000000                0.000000     0.000000        0.000000   \n",
       "25%          3.000000                1.000000     0.000000        0.000000   \n",
       "50%          4.000000                1.000000     0.000000        0.000000   \n",
       "75%          6.000000                2.000000     0.000000        0.000000   \n",
       "max         19.000000                9.000000     1.000000        1.000000   \n",
       "\n",
       "         gender_1  mail_subscribed_1  maximum_days_inactive_1  \\\n",
       "count  2000.00000        2000.000000              2000.000000   \n",
       "mean      0.53850           0.285000                 0.006000   \n",
       "std       0.49864           0.451527                 0.077246   \n",
       "min       0.00000           0.000000                 0.000000   \n",
       "25%       0.00000           0.000000                 0.000000   \n",
       "50%       1.00000           0.000000                 0.000000   \n",
       "75%       1.00000           1.000000                 0.000000   \n",
       "max       1.00000           1.000000                 1.000000   \n",
       "\n",
       "       maximum_days_inactive_2  maximum_days_inactive_3  \\\n",
       "count              2000.000000              2000.000000   \n",
       "mean                  0.136500                 0.472500   \n",
       "std                   0.343405                 0.499368   \n",
       "min                   0.000000                 0.000000   \n",
       "25%                   0.000000                 0.000000   \n",
       "50%                   0.000000                 0.000000   \n",
       "75%                   0.000000                 1.000000   \n",
       "max                   1.000000                 1.000000   \n",
       "\n",
       "       maximum_days_inactive_4  maximum_days_inactive_5  \\\n",
       "count               2000.00000              2000.000000   \n",
       "mean                   0.32250                 0.042500   \n",
       "std                    0.46755                 0.201777   \n",
       "min                    0.00000                 0.000000   \n",
       "25%                    0.00000                 0.000000   \n",
       "50%                    0.00000                 0.000000   \n",
       "75%                    1.00000                 0.000000   \n",
       "max                    1.00000                 1.000000   \n",
       "\n",
       "       maximum_days_inactive_6  maximum_days_inactive_7  \n",
       "count              2000.000000               2000.00000  \n",
       "mean                  0.001000                  0.01400  \n",
       "std                   0.031615                  0.11752  \n",
       "min                   0.000000                  0.00000  \n",
       "25%                   0.000000                  0.00000  \n",
       "50%                   0.000000                  0.00000  \n",
       "75%                   0.000000                  0.00000  \n",
       "max                   1.000000                  1.00000  "
      ]
     },
     "execution_count": 45,
     "metadata": {},
     "output_type": "execute_result"
    }
   ],
   "source": [
    "df.describe()"
   ]
  },
  {
   "cell_type": "markdown",
   "id": "e69c942a",
   "metadata": {},
   "source": [
    "## Split the data"
   ]
  },
  {
   "cell_type": "code",
   "execution_count": 46,
   "id": "71348974",
   "metadata": {},
   "outputs": [
    {
     "data": {
      "text/plain": [
       "(2000, 19)"
      ]
     },
     "execution_count": 46,
     "metadata": {},
     "output_type": "execute_result"
    }
   ],
   "source": [
    "df.shape"
   ]
  },
  {
   "cell_type": "code",
   "execution_count": 47,
   "id": "ef38723a",
   "metadata": {},
   "outputs": [],
   "source": [
    "X=df.drop(['churn'],axis=1)\n",
    "y=df['churn']"
   ]
  },
  {
   "cell_type": "markdown",
   "id": "3765080b",
   "metadata": {},
   "source": [
    "## split train-test data"
   ]
  },
  {
   "cell_type": "code",
   "execution_count": 48,
   "id": "34fc394c",
   "metadata": {},
   "outputs": [],
   "source": [
    "from sklearn.model_selection import train_test_split\n",
    "X_train,X_test,y_train,y_test=train_test_split(X,y,random_state=101,train_size=0.8)"
   ]
  },
  {
   "cell_type": "code",
   "execution_count": 49,
   "id": "1b50bad5",
   "metadata": {},
   "outputs": [
    {
     "name": "stdout",
     "output_type": "stream",
     "text": [
      "(1600, 18)\n",
      "(400, 18)\n"
     ]
    }
   ],
   "source": [
    "print(X_train.shape)\n",
    "print(X_test.shape)"
   ]
  },
  {
   "cell_type": "markdown",
   "id": "6200e0dd",
   "metadata": {},
   "source": [
    "# model selection"
   ]
  },
  {
   "cell_type": "markdown",
   "id": "7e9fe33c",
   "metadata": {},
   "source": [
    "## Decision Tree"
   ]
  },
  {
   "cell_type": "code",
   "execution_count": 50,
   "id": "a3323ff5",
   "metadata": {},
   "outputs": [],
   "source": [
    "from sklearn.tree import DecisionTreeClassifier\n",
    "from sklearn.model_selection import KFold\n",
    "grid={'max_depth':[2,3,4,5,6,7],'min_samples_split':[2,3,4,5,6,7]}\n",
    "cv=KFold(n_splits=10,random_state=None,shuffle=False)\n",
    "dt_model=DecisionTreeClassifier()"
   ]
  },
  {
   "cell_type": "code",
   "execution_count": 51,
   "id": "cb6d83ff",
   "metadata": {},
   "outputs": [
    {
     "data": {
      "text/html": [
       "<style>#sk-container-id-1 {color: black;background-color: white;}#sk-container-id-1 pre{padding: 0;}#sk-container-id-1 div.sk-toggleable {background-color: white;}#sk-container-id-1 label.sk-toggleable__label {cursor: pointer;display: block;width: 100%;margin-bottom: 0;padding: 0.3em;box-sizing: border-box;text-align: center;}#sk-container-id-1 label.sk-toggleable__label-arrow:before {content: \"▸\";float: left;margin-right: 0.25em;color: #696969;}#sk-container-id-1 label.sk-toggleable__label-arrow:hover:before {color: black;}#sk-container-id-1 div.sk-estimator:hover label.sk-toggleable__label-arrow:before {color: black;}#sk-container-id-1 div.sk-toggleable__content {max-height: 0;max-width: 0;overflow: hidden;text-align: left;background-color: #f0f8ff;}#sk-container-id-1 div.sk-toggleable__content pre {margin: 0.2em;color: black;border-radius: 0.25em;background-color: #f0f8ff;}#sk-container-id-1 input.sk-toggleable__control:checked~div.sk-toggleable__content {max-height: 200px;max-width: 100%;overflow: auto;}#sk-container-id-1 input.sk-toggleable__control:checked~label.sk-toggleable__label-arrow:before {content: \"▾\";}#sk-container-id-1 div.sk-estimator input.sk-toggleable__control:checked~label.sk-toggleable__label {background-color: #d4ebff;}#sk-container-id-1 div.sk-label input.sk-toggleable__control:checked~label.sk-toggleable__label {background-color: #d4ebff;}#sk-container-id-1 input.sk-hidden--visually {border: 0;clip: rect(1px 1px 1px 1px);clip: rect(1px, 1px, 1px, 1px);height: 1px;margin: -1px;overflow: hidden;padding: 0;position: absolute;width: 1px;}#sk-container-id-1 div.sk-estimator {font-family: monospace;background-color: #f0f8ff;border: 1px dotted black;border-radius: 0.25em;box-sizing: border-box;margin-bottom: 0.5em;}#sk-container-id-1 div.sk-estimator:hover {background-color: #d4ebff;}#sk-container-id-1 div.sk-parallel-item::after {content: \"\";width: 100%;border-bottom: 1px solid gray;flex-grow: 1;}#sk-container-id-1 div.sk-label:hover label.sk-toggleable__label {background-color: #d4ebff;}#sk-container-id-1 div.sk-serial::before {content: \"\";position: absolute;border-left: 1px solid gray;box-sizing: border-box;top: 0;bottom: 0;left: 50%;z-index: 0;}#sk-container-id-1 div.sk-serial {display: flex;flex-direction: column;align-items: center;background-color: white;padding-right: 0.2em;padding-left: 0.2em;position: relative;}#sk-container-id-1 div.sk-item {position: relative;z-index: 1;}#sk-container-id-1 div.sk-parallel {display: flex;align-items: stretch;justify-content: center;background-color: white;position: relative;}#sk-container-id-1 div.sk-item::before, #sk-container-id-1 div.sk-parallel-item::before {content: \"\";position: absolute;border-left: 1px solid gray;box-sizing: border-box;top: 0;bottom: 0;left: 50%;z-index: -1;}#sk-container-id-1 div.sk-parallel-item {display: flex;flex-direction: column;z-index: 1;position: relative;background-color: white;}#sk-container-id-1 div.sk-parallel-item:first-child::after {align-self: flex-end;width: 50%;}#sk-container-id-1 div.sk-parallel-item:last-child::after {align-self: flex-start;width: 50%;}#sk-container-id-1 div.sk-parallel-item:only-child::after {width: 0;}#sk-container-id-1 div.sk-dashed-wrapped {border: 1px dashed gray;margin: 0 0.4em 0.5em 0.4em;box-sizing: border-box;padding-bottom: 0.4em;background-color: white;}#sk-container-id-1 div.sk-label label {font-family: monospace;font-weight: bold;display: inline-block;line-height: 1.2em;}#sk-container-id-1 div.sk-label-container {text-align: center;}#sk-container-id-1 div.sk-container {/* jupyter's `normalize.less` sets `[hidden] { display: none; }` but bootstrap.min.css set `[hidden] { display: none !important; }` so we also need the `!important` here to be able to override the default hidden behavior on the sphinx rendered scikit-learn.org. See: https://github.com/scikit-learn/scikit-learn/issues/21755 */display: inline-block !important;position: relative;}#sk-container-id-1 div.sk-text-repr-fallback {display: none;}</style><div id=\"sk-container-id-1\" class=\"sk-top-container\"><div class=\"sk-text-repr-fallback\"><pre>GridSearchCV(cv=KFold(n_splits=10, random_state=None, shuffle=False),\n",
       "             estimator=DecisionTreeClassifier(), n_jobs=-1,\n",
       "             param_grid={&#x27;max_depth&#x27;: [2, 3, 4, 5, 6, 7],\n",
       "                         &#x27;min_samples_split&#x27;: [2, 3, 4, 5, 6, 7]},\n",
       "             scoring=&#x27;f1_macro&#x27;)</pre><b>In a Jupyter environment, please rerun this cell to show the HTML representation or trust the notebook. <br />On GitHub, the HTML representation is unable to render, please try loading this page with nbviewer.org.</b></div><div class=\"sk-container\" hidden><div class=\"sk-item sk-dashed-wrapped\"><div class=\"sk-label-container\"><div class=\"sk-label sk-toggleable\"><input class=\"sk-toggleable__control sk-hidden--visually\" id=\"sk-estimator-id-1\" type=\"checkbox\" ><label for=\"sk-estimator-id-1\" class=\"sk-toggleable__label sk-toggleable__label-arrow\">GridSearchCV</label><div class=\"sk-toggleable__content\"><pre>GridSearchCV(cv=KFold(n_splits=10, random_state=None, shuffle=False),\n",
       "             estimator=DecisionTreeClassifier(), n_jobs=-1,\n",
       "             param_grid={&#x27;max_depth&#x27;: [2, 3, 4, 5, 6, 7],\n",
       "                         &#x27;min_samples_split&#x27;: [2, 3, 4, 5, 6, 7]},\n",
       "             scoring=&#x27;f1_macro&#x27;)</pre></div></div></div><div class=\"sk-parallel\"><div class=\"sk-parallel-item\"><div class=\"sk-item\"><div class=\"sk-label-container\"><div class=\"sk-label sk-toggleable\"><input class=\"sk-toggleable__control sk-hidden--visually\" id=\"sk-estimator-id-2\" type=\"checkbox\" ><label for=\"sk-estimator-id-2\" class=\"sk-toggleable__label sk-toggleable__label-arrow\">estimator: DecisionTreeClassifier</label><div class=\"sk-toggleable__content\"><pre>DecisionTreeClassifier()</pre></div></div></div><div class=\"sk-serial\"><div class=\"sk-item\"><div class=\"sk-estimator sk-toggleable\"><input class=\"sk-toggleable__control sk-hidden--visually\" id=\"sk-estimator-id-3\" type=\"checkbox\" ><label for=\"sk-estimator-id-3\" class=\"sk-toggleable__label sk-toggleable__label-arrow\">DecisionTreeClassifier</label><div class=\"sk-toggleable__content\"><pre>DecisionTreeClassifier()</pre></div></div></div></div></div></div></div></div></div></div>"
      ],
      "text/plain": [
       "GridSearchCV(cv=KFold(n_splits=10, random_state=None, shuffle=False),\n",
       "             estimator=DecisionTreeClassifier(), n_jobs=-1,\n",
       "             param_grid={'max_depth': [2, 3, 4, 5, 6, 7],\n",
       "                         'min_samples_split': [2, 3, 4, 5, 6, 7]},\n",
       "             scoring='f1_macro')"
      ]
     },
     "execution_count": 51,
     "metadata": {},
     "output_type": "execute_result"
    }
   ],
   "source": [
    "from sklearn.model_selection import GridSearchCV\n",
    "dt=GridSearchCV(dt_model,grid,cv=cv,n_jobs=-1,scoring='f1_macro')\n",
    "dt.fit(X_train,y_train)"
   ]
  },
  {
   "cell_type": "code",
   "execution_count": 52,
   "id": "f6facbdd",
   "metadata": {},
   "outputs": [],
   "source": [
    "# checking accuracy\n",
    "from sklearn.metrics import accuracy_score, confusion_matrix, classification_report\n",
    "y_pred_dt=dt.predict(X_test)\n",
    "y_pred_dt_train=dt.predict(X_train)"
   ]
  },
  {
   "cell_type": "code",
   "execution_count": 53,
   "id": "449ee946",
   "metadata": {},
   "outputs": [
    {
     "name": "stdout",
     "output_type": "stream",
     "text": [
      "0.9525\n",
      "************\n",
      "0.9075\n"
     ]
    }
   ],
   "source": [
    "print(accuracy_score(y_train,y_pred_dt_train))\n",
    "print(\"************\")\n",
    "print(accuracy_score(y_test,y_pred_dt))"
   ]
  },
  {
   "cell_type": "code",
   "execution_count": 54,
   "id": "013aa77e",
   "metadata": {},
   "outputs": [
    {
     "name": "stdout",
     "output_type": "stream",
     "text": [
      "[[335  12]\n",
      " [ 25  28]]\n"
     ]
    }
   ],
   "source": [
    "# confusion metrics\n",
    "print(confusion_matrix(y_test,y_pred_dt))"
   ]
  },
  {
   "cell_type": "code",
   "execution_count": 55,
   "id": "59d1bbf1",
   "metadata": {},
   "outputs": [
    {
     "name": "stdout",
     "output_type": "stream",
     "text": [
      "              precision    recall  f1-score   support\n",
      "\n",
      "         0.0       0.93      0.97      0.95       347\n",
      "         1.0       0.70      0.53      0.60        53\n",
      "\n",
      "    accuracy                           0.91       400\n",
      "   macro avg       0.82      0.75      0.77       400\n",
      "weighted avg       0.90      0.91      0.90       400\n",
      "\n"
     ]
    }
   ],
   "source": [
    "print(classification_report(y_test,y_pred_dt))"
   ]
  },
  {
   "cell_type": "code",
   "execution_count": 56,
   "id": "b0f859fc",
   "metadata": {},
   "outputs": [
    {
     "name": "stdout",
     "output_type": "stream",
     "text": [
      "0.7\n",
      "0.9290322580645162\n"
     ]
    }
   ],
   "source": [
    "from sklearn.metrics import precision_score\n",
    "print(precision_score(y_test,y_pred_dt))\n",
    "print(precision_score(y_train,y_pred_dt_train))"
   ]
  },
  {
   "cell_type": "code",
   "execution_count": 57,
   "id": "74e89ce0",
   "metadata": {},
   "outputs": [
    {
     "name": "stdout",
     "output_type": "stream",
     "text": [
      "0.6021505376344085\n",
      "0.7912087912087912\n"
     ]
    }
   ],
   "source": [
    "from sklearn.metrics import f1_score\n",
    "print(f1_score(y_test,y_pred_dt))\n",
    "print(f1_score(y_train,y_pred_dt_train))"
   ]
  },
  {
   "cell_type": "markdown",
   "id": "fa012a01",
   "metadata": {},
   "source": [
    "## Random forest\n"
   ]
  },
  {
   "cell_type": "code",
   "execution_count": 58,
   "id": "44f60974",
   "metadata": {},
   "outputs": [],
   "source": [
    "from sklearn.ensemble import RandomForestClassifier\n",
    "grid={'max_depth':[2,3,4,5,6,7],'min_samples_split':[2,3,4,5,6,7]}\n",
    "cv=KFold(n_splits=10,random_state=None,shuffle=False)\n",
    "rf=RandomForestClassifier()\n"
   ]
  },
  {
   "cell_type": "code",
   "execution_count": 59,
   "id": "f54b2165",
   "metadata": {},
   "outputs": [
    {
     "data": {
      "text/html": [
       "<style>#sk-container-id-2 {color: black;background-color: white;}#sk-container-id-2 pre{padding: 0;}#sk-container-id-2 div.sk-toggleable {background-color: white;}#sk-container-id-2 label.sk-toggleable__label {cursor: pointer;display: block;width: 100%;margin-bottom: 0;padding: 0.3em;box-sizing: border-box;text-align: center;}#sk-container-id-2 label.sk-toggleable__label-arrow:before {content: \"▸\";float: left;margin-right: 0.25em;color: #696969;}#sk-container-id-2 label.sk-toggleable__label-arrow:hover:before {color: black;}#sk-container-id-2 div.sk-estimator:hover label.sk-toggleable__label-arrow:before {color: black;}#sk-container-id-2 div.sk-toggleable__content {max-height: 0;max-width: 0;overflow: hidden;text-align: left;background-color: #f0f8ff;}#sk-container-id-2 div.sk-toggleable__content pre {margin: 0.2em;color: black;border-radius: 0.25em;background-color: #f0f8ff;}#sk-container-id-2 input.sk-toggleable__control:checked~div.sk-toggleable__content {max-height: 200px;max-width: 100%;overflow: auto;}#sk-container-id-2 input.sk-toggleable__control:checked~label.sk-toggleable__label-arrow:before {content: \"▾\";}#sk-container-id-2 div.sk-estimator input.sk-toggleable__control:checked~label.sk-toggleable__label {background-color: #d4ebff;}#sk-container-id-2 div.sk-label input.sk-toggleable__control:checked~label.sk-toggleable__label {background-color: #d4ebff;}#sk-container-id-2 input.sk-hidden--visually {border: 0;clip: rect(1px 1px 1px 1px);clip: rect(1px, 1px, 1px, 1px);height: 1px;margin: -1px;overflow: hidden;padding: 0;position: absolute;width: 1px;}#sk-container-id-2 div.sk-estimator {font-family: monospace;background-color: #f0f8ff;border: 1px dotted black;border-radius: 0.25em;box-sizing: border-box;margin-bottom: 0.5em;}#sk-container-id-2 div.sk-estimator:hover {background-color: #d4ebff;}#sk-container-id-2 div.sk-parallel-item::after {content: \"\";width: 100%;border-bottom: 1px solid gray;flex-grow: 1;}#sk-container-id-2 div.sk-label:hover label.sk-toggleable__label {background-color: #d4ebff;}#sk-container-id-2 div.sk-serial::before {content: \"\";position: absolute;border-left: 1px solid gray;box-sizing: border-box;top: 0;bottom: 0;left: 50%;z-index: 0;}#sk-container-id-2 div.sk-serial {display: flex;flex-direction: column;align-items: center;background-color: white;padding-right: 0.2em;padding-left: 0.2em;position: relative;}#sk-container-id-2 div.sk-item {position: relative;z-index: 1;}#sk-container-id-2 div.sk-parallel {display: flex;align-items: stretch;justify-content: center;background-color: white;position: relative;}#sk-container-id-2 div.sk-item::before, #sk-container-id-2 div.sk-parallel-item::before {content: \"\";position: absolute;border-left: 1px solid gray;box-sizing: border-box;top: 0;bottom: 0;left: 50%;z-index: -1;}#sk-container-id-2 div.sk-parallel-item {display: flex;flex-direction: column;z-index: 1;position: relative;background-color: white;}#sk-container-id-2 div.sk-parallel-item:first-child::after {align-self: flex-end;width: 50%;}#sk-container-id-2 div.sk-parallel-item:last-child::after {align-self: flex-start;width: 50%;}#sk-container-id-2 div.sk-parallel-item:only-child::after {width: 0;}#sk-container-id-2 div.sk-dashed-wrapped {border: 1px dashed gray;margin: 0 0.4em 0.5em 0.4em;box-sizing: border-box;padding-bottom: 0.4em;background-color: white;}#sk-container-id-2 div.sk-label label {font-family: monospace;font-weight: bold;display: inline-block;line-height: 1.2em;}#sk-container-id-2 div.sk-label-container {text-align: center;}#sk-container-id-2 div.sk-container {/* jupyter's `normalize.less` sets `[hidden] { display: none; }` but bootstrap.min.css set `[hidden] { display: none !important; }` so we also need the `!important` here to be able to override the default hidden behavior on the sphinx rendered scikit-learn.org. See: https://github.com/scikit-learn/scikit-learn/issues/21755 */display: inline-block !important;position: relative;}#sk-container-id-2 div.sk-text-repr-fallback {display: none;}</style><div id=\"sk-container-id-2\" class=\"sk-top-container\"><div class=\"sk-text-repr-fallback\"><pre>GridSearchCV(cv=KFold(n_splits=10, random_state=None, shuffle=False),\n",
       "             estimator=RandomForestClassifier(), n_jobs=-1,\n",
       "             param_grid={&#x27;max_depth&#x27;: [2, 3, 4, 5, 6, 7],\n",
       "                         &#x27;min_samples_split&#x27;: [2, 3, 4, 5, 6, 7]},\n",
       "             scoring=&#x27;f1_macro&#x27;)</pre><b>In a Jupyter environment, please rerun this cell to show the HTML representation or trust the notebook. <br />On GitHub, the HTML representation is unable to render, please try loading this page with nbviewer.org.</b></div><div class=\"sk-container\" hidden><div class=\"sk-item sk-dashed-wrapped\"><div class=\"sk-label-container\"><div class=\"sk-label sk-toggleable\"><input class=\"sk-toggleable__control sk-hidden--visually\" id=\"sk-estimator-id-4\" type=\"checkbox\" ><label for=\"sk-estimator-id-4\" class=\"sk-toggleable__label sk-toggleable__label-arrow\">GridSearchCV</label><div class=\"sk-toggleable__content\"><pre>GridSearchCV(cv=KFold(n_splits=10, random_state=None, shuffle=False),\n",
       "             estimator=RandomForestClassifier(), n_jobs=-1,\n",
       "             param_grid={&#x27;max_depth&#x27;: [2, 3, 4, 5, 6, 7],\n",
       "                         &#x27;min_samples_split&#x27;: [2, 3, 4, 5, 6, 7]},\n",
       "             scoring=&#x27;f1_macro&#x27;)</pre></div></div></div><div class=\"sk-parallel\"><div class=\"sk-parallel-item\"><div class=\"sk-item\"><div class=\"sk-label-container\"><div class=\"sk-label sk-toggleable\"><input class=\"sk-toggleable__control sk-hidden--visually\" id=\"sk-estimator-id-5\" type=\"checkbox\" ><label for=\"sk-estimator-id-5\" class=\"sk-toggleable__label sk-toggleable__label-arrow\">estimator: RandomForestClassifier</label><div class=\"sk-toggleable__content\"><pre>RandomForestClassifier()</pre></div></div></div><div class=\"sk-serial\"><div class=\"sk-item\"><div class=\"sk-estimator sk-toggleable\"><input class=\"sk-toggleable__control sk-hidden--visually\" id=\"sk-estimator-id-6\" type=\"checkbox\" ><label for=\"sk-estimator-id-6\" class=\"sk-toggleable__label sk-toggleable__label-arrow\">RandomForestClassifier</label><div class=\"sk-toggleable__content\"><pre>RandomForestClassifier()</pre></div></div></div></div></div></div></div></div></div></div>"
      ],
      "text/plain": [
       "GridSearchCV(cv=KFold(n_splits=10, random_state=None, shuffle=False),\n",
       "             estimator=RandomForestClassifier(), n_jobs=-1,\n",
       "             param_grid={'max_depth': [2, 3, 4, 5, 6, 7],\n",
       "                         'min_samples_split': [2, 3, 4, 5, 6, 7]},\n",
       "             scoring='f1_macro')"
      ]
     },
     "execution_count": 59,
     "metadata": {},
     "output_type": "execute_result"
    }
   ],
   "source": [
    "rf=GridSearchCV(rf,grid,n_jobs=-1,scoring='f1_macro',cv=cv)\n",
    "rf.fit(X_train,y_train)"
   ]
  },
  {
   "cell_type": "code",
   "execution_count": 60,
   "id": "0a55e4e5",
   "metadata": {},
   "outputs": [],
   "source": [
    "y_pred_rf=rf.predict(X_test)\n",
    "y_pred_rf_train=rf.predict(X_train)"
   ]
  },
  {
   "cell_type": "code",
   "execution_count": 61,
   "id": "1a1b2094",
   "metadata": {},
   "outputs": [
    {
     "name": "stdout",
     "output_type": "stream",
     "text": [
      "0.94875\n",
      "*****************\n",
      "0.9075\n"
     ]
    }
   ],
   "source": [
    "# Accuracy\n",
    "print(accuracy_score(y_train,y_pred_rf_train))\n",
    "print(\"*****************\")\n",
    "print(accuracy_score(y_test,y_pred_rf))"
   ]
  },
  {
   "cell_type": "code",
   "execution_count": 62,
   "id": "97631279",
   "metadata": {},
   "outputs": [
    {
     "name": "stdout",
     "output_type": "stream",
     "text": [
      "[[346   1]\n",
      " [ 36  17]]\n"
     ]
    }
   ],
   "source": [
    "# confusion metrix\n",
    "print(confusion_matrix(y_test,y_pred_rf))"
   ]
  },
  {
   "cell_type": "code",
   "execution_count": 63,
   "id": "6f6b2d27",
   "metadata": {},
   "outputs": [
    {
     "name": "stdout",
     "output_type": "stream",
     "text": [
      "              precision    recall  f1-score   support\n",
      "\n",
      "         0.0       0.91      1.00      0.95       347\n",
      "         1.0       0.94      0.32      0.48        53\n",
      "\n",
      "    accuracy                           0.91       400\n",
      "   macro avg       0.93      0.66      0.71       400\n",
      "weighted avg       0.91      0.91      0.89       400\n",
      "\n"
     ]
    }
   ],
   "source": [
    "# classificatio report\n",
    "print(classification_report(y_test,y_pred_rf))"
   ]
  },
  {
   "cell_type": "code",
   "execution_count": 64,
   "id": "57f18d56",
   "metadata": {},
   "outputs": [
    {
     "name": "stdout",
     "output_type": "stream",
     "text": [
      "0.4788732394366197\n",
      "0.7559523809523809\n"
     ]
    }
   ],
   "source": [
    "from sklearn.metrics import f1_score\n",
    "print(f1_score(y_test,y_pred_rf))\n",
    "print(f1_score(y_train,y_pred_rf_train))"
   ]
  },
  {
   "cell_type": "code",
   "execution_count": 65,
   "id": "af86316d",
   "metadata": {},
   "outputs": [
    {
     "name": "stdout",
     "output_type": "stream",
     "text": [
      "0.9444444444444444\n",
      "1.0\n"
     ]
    }
   ],
   "source": [
    "from sklearn.metrics import precision_score\n",
    "print(precision_score(y_test,y_pred_rf))\n",
    "print(precision_score(y_train,y_pred_rf_train))"
   ]
  },
  {
   "cell_type": "markdown",
   "id": "4809e3dc",
   "metadata": {},
   "source": [
    "# MLE/ROC"
   ]
  },
  {
   "cell_type": "code",
   "execution_count": 84,
   "id": "5de81712",
   "metadata": {},
   "outputs": [],
   "source": [
    "from sklearn.metrics import roc_auc_score\n",
    "dt_model_auc=roc_auc_score(y_test,y_pred_dt)\n",
    "rf_model_auc=roc_auc_score(y_test,y_pred_rf)\n"
   ]
  },
  {
   "cell_type": "code",
   "execution_count": 85,
   "id": "e3908720",
   "metadata": {},
   "outputs": [
    {
     "name": "stdout",
     "output_type": "stream",
     "text": [
      "Decision Tree auroc = 0.747\n",
      "Random Forest auroc = 0.659\n"
     ]
    }
   ],
   "source": [
    "print('Decision Tree auroc = %.3f'% dt_model_roc_auc)\n",
    "print('Random Forest auroc = %.3f'% rf_model_roc_auc)"
   ]
  },
  {
   "cell_type": "code",
   "execution_count": 86,
   "id": "2847e722",
   "metadata": {},
   "outputs": [],
   "source": [
    "dt_fpr,dt_tpr,threshold_dt=roc_curve(y_test,y_pred_dt)\n",
    "rf_fpr,rf_tpr,threshold_rf=roc_curve(y_test,y_pred_rf)"
   ]
  },
  {
   "cell_type": "code",
   "execution_count": 89,
   "id": "2b8efd71",
   "metadata": {},
   "outputs": [
    {
     "data": {
      "image/png": "[encoded data removed]",
      "text/plain": [
       "<Figure size 432x288 with 1 Axes>"
      ]
     },
     "metadata": {
      "needs_background": "light"
     },
     "output_type": "display_data"
    }
   ],
   "source": [
    "import matplotlib.pyplot as plt\n",
    "plt.title('Receiver Operating Characteristic')\n",
    "plt.plot(dt_fpr, dt_tpr, 'b', label = 'Decision Tree auroc (%.3f)'% dt_model_auc)\n",
    "plt.plot(rf_fpr, rf_tpr, '--', label = 'Random Forest  auroc (%.3f)'% rf_model_auc)\n",
    "plt.legend(loc = 'lower right')\n",
    "plt.plot([0, 1], [0, 1],'r--')\n",
    "plt.xlim([0, 1])\n",
    "plt.ylim([0, 1])\n",
    "plt.ylabel('True Positive Rate')\n",
    "plt.xlabel('False Positive Rate')\n",
    "plt.show()"
   ]
  },
  {
   "cell_type": "code",
   "execution_count": null,
   "id": "75b262c7",
   "metadata": {},
   "outputs": [],
   "source": [
    "# Here the performance of a Decision Tree is better than Randome Forest but precison score of Random Forest is better \n",
    "# than Decision Tree and in this problem , precision has a mojor role , wo i will go with the model Random Forest."
   ]
  }
 ],
 "metadata": {
  "kernelspec": {
   "display_name": "Python 3 (ipykernel)",
   "language": "python",
   "name": "python3"
  },
  "language_info": {
   "codemirror_mode": {
    "name": "ipython",
    "version": 3
   },
   "file_extension": ".py",
   "mimetype": "text/x-python",
   "name": "python",
   "nbconvert_exporter": "python",
   "pygments_lexer": "ipython3",
   "version": "3.9.12"
  }
 },
 "nbformat": 4,
 "nbformat_minor": 5
}
